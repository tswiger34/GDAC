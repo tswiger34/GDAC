{
  "nbformat": 4,
  "nbformat_minor": 0,
  "metadata": {
    "colab": {
      "provenance": [],
      "include_colab_link": true
    },
    "kernelspec": {
      "name": "python3",
      "display_name": "Python 3"
    },
    "language_info": {
      "name": "python"
    }
  },
  "cells": [
    {
      "cell_type": "markdown",
      "metadata": {
        "id": "view-in-github",
        "colab_type": "text"
      },
      "source": [
        "<a href=\"https://colab.research.google.com/github/tswiger34/GDAC/blob/main/CodeFile.ipynb\" target=\"_parent\"><img src=\"https://colab.research.google.com/assets/colab-badge.svg\" alt=\"Open In Colab\"/></a>"
      ]
    },
    {
      "cell_type": "markdown",
      "source": [
        "# Cleaning (**Do not edit**)\n",
        "Lets load in the data"
      ],
      "metadata": {
        "id": "JBZcYQj_k0pf"
      }
    },
    {
      "cell_type": "code",
      "execution_count": null,
      "metadata": {
        "colab": {
          "base_uri": "https://localhost:8080/"
        },
        "id": "mRSIvQkCkx2K",
        "outputId": "82e3ea5b-d1fb-4d38-ad85-eabbf728f164"
      },
      "outputs": [
        {
          "output_type": "stream",
          "name": "stdout",
          "text": [
            "Mounted at /content/gdrive\n"
          ]
        }
      ],
      "source": [
        "from google.colab import drive\n",
        "drive.mount(\"/content/gdrive\")"
      ]
    },
    {
      "cell_type": "code",
      "source": [
        "import pandas as pd\n",
        "df = pd.read_csv(\"/content/gdrive/My Drive/2023 Super Bowl Ad Competition/2023 Data/gd_tweets_2023_FULL.csv\")"
      ],
      "metadata": {
        "id": "kUzf8MUdlKob",
        "colab": {
          "base_uri": "https://localhost:8080/"
        },
        "outputId": "d7b3c5a2-7986-4aee-996b-dd5e4f6cc719"
      },
      "execution_count": null,
      "outputs": [
        {
          "output_type": "stream",
          "name": "stderr",
          "text": [
            "/usr/local/lib/python3.8/dist-packages/IPython/core/interactiveshell.py:3326: DtypeWarning: Columns (9,19,34,35,36,37,38,39,40,41,42) have mixed types.Specify dtype option on import or set low_memory=False.\n",
            "  exec(code_obj, self.user_global_ns, self.user_ns)\n"
          ]
        }
      ]
    },
    {
      "cell_type": "markdown",
      "source": [
        "## Check the packaging"
      ],
      "metadata": {
        "id": "IYfyiAhfnd1r"
      }
    },
    {
      "cell_type": "code",
      "source": [
        "print(df.head())"
      ],
      "metadata": {
        "id": "a4LRtIyrnhP9"
      },
      "execution_count": null,
      "outputs": []
    },
    {
      "cell_type": "markdown",
      "source": [
        "Check dtypes"
      ],
      "metadata": {
        "id": "_lb9QXurpBVF"
      }
    },
    {
      "cell_type": "markdown",
      "source": [
        "Check N's"
      ],
      "metadata": {
        "id": "AXnYL4uMpDGz"
      }
    },
    {
      "cell_type": "code",
      "source": [
        "print(df.info())"
      ],
      "metadata": {
        "id": "FeL7ekvypE4o"
      },
      "execution_count": null,
      "outputs": []
    },
    {
      "cell_type": "code",
      "source": [
        "df.isnull().sum()"
      ],
      "metadata": {
        "id": "BeBic2N-0e3e"
      },
      "execution_count": null,
      "outputs": []
    },
    {
      "cell_type": "markdown",
      "source": [
        "## The rest of this should depend of our question"
      ],
      "metadata": {
        "id": "Sq0Y8s4zqTq6"
      }
    },
    {
      "cell_type": "markdown",
      "source": [
        "Lets remove all columns with over 40,000 null observations.\n",
        "\n",
        "\n"
      ],
      "metadata": {
        "id": "2M45dhRfgIEK"
      }
    },
    {
      "cell_type": "code",
      "source": [
        "labels = df.isnull().sum()[df.isnull().sum() > 40000].index\n",
        "df.drop(labels, axis=1, inplace=True)\n",
        "print(df.head())"
      ],
      "metadata": {
        "id": "iC931D3j1VIw"
      },
      "execution_count": null,
      "outputs": []
    },
    {
      "cell_type": "markdown",
      "source": [
        "Lets check how nulls look like now."
      ],
      "metadata": {
        "id": "GfOVLYir2yww"
      }
    },
    {
      "cell_type": "code",
      "source": [
        "print(df.isnull().sum())"
      ],
      "metadata": {
        "id": "w3SVoskR22Qq"
      },
      "execution_count": null,
      "outputs": []
    },
    {
      "cell_type": "markdown",
      "source": [
        "Lets drop the few NA observations left"
      ],
      "metadata": {
        "id": "GsWVJESl3JFR"
      }
    },
    {
      "cell_type": "code",
      "source": [
        "df.dropna(inplace=True)\n",
        "print(df.isnull().sum())"
      ],
      "metadata": {
        "id": "TE8lzqaV327_"
      },
      "execution_count": null,
      "outputs": []
    },
    {
      "cell_type": "markdown",
      "source": [
        "Lets reset the index so that we can easily access good pandas functionality of DateTime"
      ],
      "metadata": {
        "id": "G537zwpR4wuX"
      }
    },
    {
      "cell_type": "code",
      "source": [
        "df[\"timestamp\"] = df[\"timestamp\"].apply(lambda x: pd.to_datetime(x))"
      ],
      "metadata": {
        "id": "CxtKcGao49c9"
      },
      "execution_count": null,
      "outputs": []
    },
    {
      "cell_type": "markdown",
      "source": [
        "Let's set the index to timestamp"
      ],
      "metadata": {
        "id": "fXD5_IBa-GLg"
      }
    },
    {
      "cell_type": "code",
      "source": [
        "df.set_index(\"timestamp\", inplace=True)\n",
        "print(df.head())"
      ],
      "metadata": {
        "id": "xD9S0RZm-Lqj"
      },
      "execution_count": null,
      "outputs": []
    },
    {
      "cell_type": "markdown",
      "source": [
        "Lets convert the created at column into pd.datetime"
      ],
      "metadata": {
        "id": "6cYc4WIf-n3D"
      }
    },
    {
      "cell_type": "code",
      "source": [
        "df[\"created_at\"] = df[\"created_at\"].apply(lambda x: pd.to_datetime(x))\n",
        "print(df[\"created_at\"].head())"
      ],
      "metadata": {
        "id": "u3WFEzNm-05l"
      },
      "execution_count": null,
      "outputs": []
    },
    {
      "cell_type": "markdown",
      "source": [
        "Lets convert the edit_controls.editable_until to pd.datetime"
      ],
      "metadata": {
        "id": "hg1X8sNWA8RO"
      }
    },
    {
      "cell_type": "code",
      "source": [
        "df[\"edit_controls.editable_until\"] = df[\"edit_controls.editable_until\"].apply(lambda x: pd.to_datetime(x))\n",
        "print(df[\"edit_controls.editable_until\"].head())"
      ],
      "metadata": {
        "id": "O9Br_L3iBJZA"
      },
      "execution_count": null,
      "outputs": []
    },
    {
      "cell_type": "markdown",
      "source": [
        "Note: The time is in UTC (Check if this is good)"
      ],
      "metadata": {
        "id": "teYECWjMCmdJ"
      }
    },
    {
      "cell_type": "markdown",
      "source": [
        "Export the data.\n"
      ],
      "metadata": {
        "id": "NCUpXcF5CzI-"
      }
    },
    {
      "cell_type": "code",
      "source": [
        "df.to_csv(\"Clean.csv\")"
      ],
      "metadata": {
        "id": "98xdCSvPLqt7"
      },
      "execution_count": null,
      "outputs": []
    },
    {
      "cell_type": "code",
      "source": [
        "from google.colab import files\n",
        "files.download('Clean.csv')"
      ],
      "metadata": {
        "id": "rJbjZC7FMbPJ"
      },
      "execution_count": null,
      "outputs": []
    },
    {
      "cell_type": "markdown",
      "source": [
        "Further Data Cleaning:\n",
        "Only inlcude english tweets\n",
        "Turn it into brand level granularity"
      ],
      "metadata": {
        "id": "oaD3jlD_bDyL"
      }
    },
    {
      "cell_type": "code",
      "source": [
        "import pandas as pd\n",
        "df2 = pd.read_csv('/content/gdrive/MyDrive/2023 Data/Clean.csv')\n",
        "df2.info()"
      ],
      "metadata": {
        "id": "3fgXQQN6bGO8",
        "colab": {
          "base_uri": "https://localhost:8080/"
        },
        "outputId": "60f5888d-a0fb-4649-9455-9fe6473cdd66"
      },
      "execution_count": null,
      "outputs": [
        {
          "output_type": "stream",
          "name": "stdout",
          "text": [
            "<class 'pandas.core.frame.DataFrame'>\n",
            "RangeIndex: 1915680 entries, 0 to 1915679\n",
            "Data columns (total 25 columns):\n",
            " #   Column                           Dtype  \n",
            "---  ------                           -----  \n",
            " 0   timestamp                        object \n",
            " 1   team_name                        object \n",
            " 2   time_period_of_the_game          object \n",
            " 3   brand_ad_name                    object \n",
            " 4   keywords                         object \n",
            " 5   edit_history_tweet_ids           object \n",
            " 6   conversation_id                  float64\n",
            " 7   reply_settings                   object \n",
            " 8   created_at                       object \n",
            " 9   possibly_sensitive               bool   \n",
            " 10  id                               float64\n",
            " 11  author_id                        float64\n",
            " 12  lang                             object \n",
            " 13  text                             object \n",
            " 14  edit_controls.edits_remaining    float64\n",
            " 15  edit_controls.is_edit_eligible   bool   \n",
            " 16  edit_controls.editable_until     object \n",
            " 17  public_metrics.retweet_count     float64\n",
            " 18  public_metrics.reply_count       float64\n",
            " 19  public_metrics.like_count        float64\n",
            " 20  public_metrics.quote_count       float64\n",
            " 21  public_metrics.impression_count  float64\n",
            " 22  name                             object \n",
            " 23  username                         object \n",
            " 24  keyword                          object \n",
            "dtypes: bool(2), float64(9), object(14)\n",
            "memory usage: 339.8+ MB\n"
          ]
        }
      ]
    },
    {
      "cell_type": "code",
      "source": [
        "# Divy's directory\n",
        "import pandas as pd\n",
        "df2 = pd.read_csv('/content/gdrive/MyDrive/2023 Super Bowl Ad Competition/2023 Data/Clean.csv')"
      ],
      "metadata": {
        "id": "Hq6Y-a_h5VVb"
      },
      "execution_count": null,
      "outputs": []
    },
    {
      "cell_type": "markdown",
      "source": [
        "For the love of god do not show this next block of code, it is unholy"
      ],
      "metadata": {
        "id": "6AzeBvgulmGE"
      }
    },
    {
      "cell_type": "code",
      "source": [
        "df2 = df2.loc[df2['lang']=='en']\n",
        "df2.dropna(inplace=True)\n",
        "df2['brand_ad_name'] = df2['brand_ad_name'].apply(lambda x: str.lower(x))\n",
        "# df2 = df2.drop(['team_name', 'time_period_of_the_game', 'keywords', 'edit_history_tweet_ids', 'conversation_id', 'reply_settings', 'created_at' ], axis='columns')\n",
        "# df2 = df2.drop(['possibly_sensitive', 'edit_controls.edits_remaining', 'edit_controls.editable_until', 'keyword'], axis='columns')\n",
        "# df2 = df2.drop(['edit_controls.is_edit_eligible'], axis = 'columns')\n",
        "df3 = df2\n",
        "\n",
        "# Ram\n",
        "mask = df3['brand_ad_name'].str.contains('premature')\n",
        "df3.loc[mask, 'brand_ad_name'] = 'Pre-Mature Electrification'\n",
        "mask = df3['brand_ad_name'].str.contains('kia')\n",
        "df3.loc[mask, 'brand_ad_name'] = 'Kia'\n",
        "# Jesus\n",
        "mask = df3['brand_ad_name'].str.contains('he gets us')\n",
        "df3.loc[mask, 'brand_ad_name'] = 'Jesus'\n",
        "mask = df3['brand_ad_name'].str.contains('jesus')\n",
        "df3.loc[mask, 'brand_ad_name'] = 'Jesus'\n",
        "#Google \n",
        "mask = df3['brand_ad_name'].str.contains('google')\n",
        "df3.loc[mask, 'brand_ad_name'] = 'Google Pixel'\n",
        "#Indiana Jones\n",
        "mask = df3['brand_ad_name'].str.contains('indiana jones')\n",
        "df3.loc[mask, 'brand_ad_name'] = 'Indiana Jones'\n",
        "mask = df3['brand_ad_name'].str.contains('disney')\n",
        "df3.loc[mask, 'brand_ad_name'] = 'Disney'\n",
        "# Achtung U2\n",
        "mask = df3['brand_ad_name'].str.contains('achtung')\n",
        "df3.loc[mask, 'brand_ad_name'] = 'U2'\n",
        "# Air\n",
        "mask = df3['brand_ad_name'].str.contains('air')\n",
        "df3.loc[mask, 'brand_ad_name'] = 'Air'\n",
        "# U2\n",
        "mask = df3['brand_ad_name'].str.contains('amazon')\n",
        "df3.loc[mask, 'brand_ad_name'] = 'Amazon'\n",
        "# Animal Control\n",
        "mask = df3['brand_ad_name'].str.contains('animal')\n",
        "df3.loc[mask, 'brand_ad_name'] = 'Animal Control'\n",
        "# Avocados\n",
        "mask = df3['brand_ad_name'].str.contains('avocados')\n",
        "df3.loc[mask, 'brand_ad_name'] = 'Avocados from Mexico'\n",
        "# BIC\n",
        "mask = df3['brand_ad_name'].str.contains('bic')\n",
        "df3.loc[mask, 'brand_ad_name'] = 'BIC'\n",
        "# Booking.com\n",
        "mask = df3['brand_ad_name'].str.contains('booking')\n",
        "df3.loc[mask, 'brand_ad_name'] = 'Booking.com'\n",
        "# Bud Light\n",
        "mask = df3['brand_ad_name'].str.contains('bud light')\n",
        "df3.loc[mask, 'brand_ad_name'] = 'Bud Light'\n",
        "# Budweiser\n",
        "mask = df3['brand_ad_name'].str.contains('budweis')\n",
        "df3.loc[mask, 'brand_ad_name'] = 'Budweiser'\n",
        "# Busch\n",
        "mask = df3['brand_ad_name'].str.contains('busch')\n",
        "df3.loc[mask, 'brand_ad_name'] = 'Busch'\n",
        "# Capital One\n",
        "mask = df3['brand_ad_name'].str.contains('capital one')\n",
        "df3.loc[mask, 'brand_ad_name'] = 'Capital One'\n",
        "# Temu\n",
        "mask = df3['brand_ad_name'].str.contains('temu')\n",
        "df3.loc[mask, 'brand_ad_name'] = 'Temu'\n",
        "# WeatherTech\n",
        "mask = df3['brand_ad_name'].str.contains('weathertech' or 'weather tech')\n",
        "df3.loc[mask, 'brand_ad_name'] = 'WeatherTech'\n",
        "# Crown Royal\n",
        "mask = df3['brand_ad_name'].str.contains('crown royal')\n",
        "df3.loc[mask, 'brand_ad_name'] = 'Crown Royal'\n",
        "# Daytona 500\n",
        "mask = df3['brand_ad_name'].str.contains('daytona')\n",
        "df3.loc[mask, 'brand_ad_name'] = 'Daytona 500'\n",
        "# Dexicom\n",
        "mask = df3['brand_ad_name'].str.contains('dexcom' or 'dexicom')\n",
        "df3.loc[mask, 'brand_ad_name'] = 'Dexicom'\n",
        "# Dialpad\n",
        "mask = df3['brand_ad_name'].str.contains('dial pad')\n",
        "df3.loc[mask, 'brand_ad_name'] = 'Dial Pad'\n",
        "# Michelob\n",
        "mask = df3['brand_ad_name'].str.contains('michelob')\n",
        "df3.loc[mask, 'brand_ad_name'] = 'Michelob Ultra'\n",
        "# NFL\n",
        "mask = df3['brand_ad_name'].str.contains('nfl')\n",
        "df3.loc[mask, 'brand_ad_name'] = 'NFL'\n",
        "# T-Mobile\n",
        "mask = df3['brand_ad_name'].str.contains('t-mobile')\n",
        "df3.loc[mask, 'brand_ad_name'] = 'T-Mobile'\n",
        "# Pepsi\n",
        "mask = df3['brand_ad_name'].str.contains('pepsi')\n",
        "df3.loc[mask, 'brand_ad_name'] = 'Pepsi'\n",
        "# Jeep\n",
        "mask = df3['brand_ad_name'].str.contains('jeep')\n",
        "df3.loc[mask, 'brand_ad_name'] = 'Jeep'\n",
        "# Turbo Tax\n",
        "mask = df3['brand_ad_name'].str.contains('turbo')\n",
        "df3.loc[mask, 'brand_ad_name'] = 'Turb Tax'\n",
        "\n"
      ],
      "metadata": {
        "id": "nEzBj5qkcp4z"
      },
      "execution_count": null,
      "outputs": []
    },
    {
      "cell_type": "code",
      "source": [
        "df3.head()\n"
      ],
      "metadata": {
        "colab": {
          "base_uri": "https://localhost:8080/",
          "height": 473
        },
        "id": "0S3vKZ-_5xe-",
        "outputId": "8960d0a5-cdf5-438e-e355-fddb004c1dd5"
      },
      "execution_count": null,
      "outputs": [
        {
          "output_type": "execute_result",
          "data": {
            "text/plain": [
              "             timestamp              team_name time_period_of_the_game  \\\n",
              "0  2023-02-12 17:22:14  Grad 13 - Fantastic 4               Quarter 2   \n",
              "1  2023-02-12 17:22:14  Grad 13 - Fantastic 4               Quarter 2   \n",
              "2  2023-02-12 17:22:14  Grad 13 - Fantastic 4               Quarter 2   \n",
              "3  2023-02-12 17:22:14  Grad 13 - Fantastic 4               Quarter 2   \n",
              "5  2023-02-12 17:22:14  Grad 13 - Fantastic 4               Quarter 2   \n",
              "\n",
              "    brand_ad_name keywords   edit_history_tweet_ids  conversation_id  \\\n",
              "0  bass pro shops  50years  ['1624986246140362754']     1.624796e+18   \n",
              "1  bass pro shops  50years  ['1624986211768041472']     1.624986e+18   \n",
              "2  bass pro shops  50years  ['1624968066030530562']     1.624968e+18   \n",
              "3  bass pro shops  50years  ['1624967894248439811']     1.624831e+18   \n",
              "5  bass pro shops  50years  ['1624964011933548545']     1.624538e+18   \n",
              "\n",
              "  reply_settings                 created_at  possibly_sensitive  ...  \\\n",
              "0       everyone  2023-02-13 04:18:06+00:00               False  ...   \n",
              "1       everyone  2023-02-13 04:17:58+00:00               False  ...   \n",
              "2       everyone  2023-02-13 03:05:52+00:00               False  ...   \n",
              "3       everyone  2023-02-13 03:05:11+00:00               False  ...   \n",
              "5       everyone  2023-02-13 02:49:45+00:00               False  ...   \n",
              "\n",
              "   edit_controls.is_edit_eligible  edit_controls.editable_until  \\\n",
              "0                           False     2023-02-13 04:48:06+00:00   \n",
              "1                            True     2023-02-13 04:47:58+00:00   \n",
              "2                           False     2023-02-13 03:35:52+00:00   \n",
              "3                           False     2023-02-13 03:35:11+00:00   \n",
              "5                           False     2023-02-13 03:19:45+00:00   \n",
              "\n",
              "  public_metrics.retweet_count public_metrics.reply_count  \\\n",
              "0                          0.0                        0.0   \n",
              "1                          0.0                        0.0   \n",
              "2                          4.0                        0.0   \n",
              "3                          0.0                        1.0   \n",
              "5                          0.0                        0.0   \n",
              "\n",
              "   public_metrics.like_count  public_metrics.quote_count  \\\n",
              "0                        0.0                         0.0   \n",
              "1                        0.0                         0.0   \n",
              "2                        0.0                         0.0   \n",
              "3                        0.0                         0.0   \n",
              "5                        1.0                         0.0   \n",
              "\n",
              "  public_metrics.impression_count                    name        username  \\\n",
              "0                             2.0                Hey Moon  HeyMon12924336   \n",
              "1                            56.0           Tulsa Mayfest         mayfest   \n",
              "2                             0.0                  sposho      sposhy0007   \n",
              "3                             7.0  convicted sez offender  subhuman356255   \n",
              "5                             0.0               Free Will     freewill121   \n",
              "\n",
              "   keyword  \n",
              "0  50years  \n",
              "1  50years  \n",
              "2  50years  \n",
              "3  50years  \n",
              "5  50years  \n",
              "\n",
              "[5 rows x 25 columns]"
            ],
            "text/html": [
              "\n",
              "  <div id=\"df-b0ffe381-823a-4236-88bd-aff2ca1e1869\">\n",
              "    <div class=\"colab-df-container\">\n",
              "      <div>\n",
              "<style scoped>\n",
              "    .dataframe tbody tr th:only-of-type {\n",
              "        vertical-align: middle;\n",
              "    }\n",
              "\n",
              "    .dataframe tbody tr th {\n",
              "        vertical-align: top;\n",
              "    }\n",
              "\n",
              "    .dataframe thead th {\n",
              "        text-align: right;\n",
              "    }\n",
              "</style>\n",
              "<table border=\"1\" class=\"dataframe\">\n",
              "  <thead>\n",
              "    <tr style=\"text-align: right;\">\n",
              "      <th></th>\n",
              "      <th>timestamp</th>\n",
              "      <th>team_name</th>\n",
              "      <th>time_period_of_the_game</th>\n",
              "      <th>brand_ad_name</th>\n",
              "      <th>keywords</th>\n",
              "      <th>edit_history_tweet_ids</th>\n",
              "      <th>conversation_id</th>\n",
              "      <th>reply_settings</th>\n",
              "      <th>created_at</th>\n",
              "      <th>possibly_sensitive</th>\n",
              "      <th>...</th>\n",
              "      <th>edit_controls.is_edit_eligible</th>\n",
              "      <th>edit_controls.editable_until</th>\n",
              "      <th>public_metrics.retweet_count</th>\n",
              "      <th>public_metrics.reply_count</th>\n",
              "      <th>public_metrics.like_count</th>\n",
              "      <th>public_metrics.quote_count</th>\n",
              "      <th>public_metrics.impression_count</th>\n",
              "      <th>name</th>\n",
              "      <th>username</th>\n",
              "      <th>keyword</th>\n",
              "    </tr>\n",
              "  </thead>\n",
              "  <tbody>\n",
              "    <tr>\n",
              "      <th>0</th>\n",
              "      <td>2023-02-12 17:22:14</td>\n",
              "      <td>Grad 13 - Fantastic 4</td>\n",
              "      <td>Quarter 2</td>\n",
              "      <td>bass pro shops</td>\n",
              "      <td>50years</td>\n",
              "      <td>['1624986246140362754']</td>\n",
              "      <td>1.624796e+18</td>\n",
              "      <td>everyone</td>\n",
              "      <td>2023-02-13 04:18:06+00:00</td>\n",
              "      <td>False</td>\n",
              "      <td>...</td>\n",
              "      <td>False</td>\n",
              "      <td>2023-02-13 04:48:06+00:00</td>\n",
              "      <td>0.0</td>\n",
              "      <td>0.0</td>\n",
              "      <td>0.0</td>\n",
              "      <td>0.0</td>\n",
              "      <td>2.0</td>\n",
              "      <td>Hey Moon</td>\n",
              "      <td>HeyMon12924336</td>\n",
              "      <td>50years</td>\n",
              "    </tr>\n",
              "    <tr>\n",
              "      <th>1</th>\n",
              "      <td>2023-02-12 17:22:14</td>\n",
              "      <td>Grad 13 - Fantastic 4</td>\n",
              "      <td>Quarter 2</td>\n",
              "      <td>bass pro shops</td>\n",
              "      <td>50years</td>\n",
              "      <td>['1624986211768041472']</td>\n",
              "      <td>1.624986e+18</td>\n",
              "      <td>everyone</td>\n",
              "      <td>2023-02-13 04:17:58+00:00</td>\n",
              "      <td>False</td>\n",
              "      <td>...</td>\n",
              "      <td>True</td>\n",
              "      <td>2023-02-13 04:47:58+00:00</td>\n",
              "      <td>0.0</td>\n",
              "      <td>0.0</td>\n",
              "      <td>0.0</td>\n",
              "      <td>0.0</td>\n",
              "      <td>56.0</td>\n",
              "      <td>Tulsa Mayfest</td>\n",
              "      <td>mayfest</td>\n",
              "      <td>50years</td>\n",
              "    </tr>\n",
              "    <tr>\n",
              "      <th>2</th>\n",
              "      <td>2023-02-12 17:22:14</td>\n",
              "      <td>Grad 13 - Fantastic 4</td>\n",
              "      <td>Quarter 2</td>\n",
              "      <td>bass pro shops</td>\n",
              "      <td>50years</td>\n",
              "      <td>['1624968066030530562']</td>\n",
              "      <td>1.624968e+18</td>\n",
              "      <td>everyone</td>\n",
              "      <td>2023-02-13 03:05:52+00:00</td>\n",
              "      <td>False</td>\n",
              "      <td>...</td>\n",
              "      <td>False</td>\n",
              "      <td>2023-02-13 03:35:52+00:00</td>\n",
              "      <td>4.0</td>\n",
              "      <td>0.0</td>\n",
              "      <td>0.0</td>\n",
              "      <td>0.0</td>\n",
              "      <td>0.0</td>\n",
              "      <td>sposho</td>\n",
              "      <td>sposhy0007</td>\n",
              "      <td>50years</td>\n",
              "    </tr>\n",
              "    <tr>\n",
              "      <th>3</th>\n",
              "      <td>2023-02-12 17:22:14</td>\n",
              "      <td>Grad 13 - Fantastic 4</td>\n",
              "      <td>Quarter 2</td>\n",
              "      <td>bass pro shops</td>\n",
              "      <td>50years</td>\n",
              "      <td>['1624967894248439811']</td>\n",
              "      <td>1.624831e+18</td>\n",
              "      <td>everyone</td>\n",
              "      <td>2023-02-13 03:05:11+00:00</td>\n",
              "      <td>False</td>\n",
              "      <td>...</td>\n",
              "      <td>False</td>\n",
              "      <td>2023-02-13 03:35:11+00:00</td>\n",
              "      <td>0.0</td>\n",
              "      <td>1.0</td>\n",
              "      <td>0.0</td>\n",
              "      <td>0.0</td>\n",
              "      <td>7.0</td>\n",
              "      <td>convicted sez offender</td>\n",
              "      <td>subhuman356255</td>\n",
              "      <td>50years</td>\n",
              "    </tr>\n",
              "    <tr>\n",
              "      <th>5</th>\n",
              "      <td>2023-02-12 17:22:14</td>\n",
              "      <td>Grad 13 - Fantastic 4</td>\n",
              "      <td>Quarter 2</td>\n",
              "      <td>bass pro shops</td>\n",
              "      <td>50years</td>\n",
              "      <td>['1624964011933548545']</td>\n",
              "      <td>1.624538e+18</td>\n",
              "      <td>everyone</td>\n",
              "      <td>2023-02-13 02:49:45+00:00</td>\n",
              "      <td>False</td>\n",
              "      <td>...</td>\n",
              "      <td>False</td>\n",
              "      <td>2023-02-13 03:19:45+00:00</td>\n",
              "      <td>0.0</td>\n",
              "      <td>0.0</td>\n",
              "      <td>1.0</td>\n",
              "      <td>0.0</td>\n",
              "      <td>0.0</td>\n",
              "      <td>Free Will</td>\n",
              "      <td>freewill121</td>\n",
              "      <td>50years</td>\n",
              "    </tr>\n",
              "  </tbody>\n",
              "</table>\n",
              "<p>5 rows × 25 columns</p>\n",
              "</div>\n",
              "      <button class=\"colab-df-convert\" onclick=\"convertToInteractive('df-b0ffe381-823a-4236-88bd-aff2ca1e1869')\"\n",
              "              title=\"Convert this dataframe to an interactive table.\"\n",
              "              style=\"display:none;\">\n",
              "        \n",
              "  <svg xmlns=\"http://www.w3.org/2000/svg\" height=\"24px\"viewBox=\"0 0 24 24\"\n",
              "       width=\"24px\">\n",
              "    <path d=\"M0 0h24v24H0V0z\" fill=\"none\"/>\n",
              "    <path d=\"M18.56 5.44l.94 2.06.94-2.06 2.06-.94-2.06-.94-.94-2.06-.94 2.06-2.06.94zm-11 1L8.5 8.5l.94-2.06 2.06-.94-2.06-.94L8.5 2.5l-.94 2.06-2.06.94zm10 10l.94 2.06.94-2.06 2.06-.94-2.06-.94-.94-2.06-.94 2.06-2.06.94z\"/><path d=\"M17.41 7.96l-1.37-1.37c-.4-.4-.92-.59-1.43-.59-.52 0-1.04.2-1.43.59L10.3 9.45l-7.72 7.72c-.78.78-.78 2.05 0 2.83L4 21.41c.39.39.9.59 1.41.59.51 0 1.02-.2 1.41-.59l7.78-7.78 2.81-2.81c.8-.78.8-2.07 0-2.86zM5.41 20L4 18.59l7.72-7.72 1.47 1.35L5.41 20z\"/>\n",
              "  </svg>\n",
              "      </button>\n",
              "      \n",
              "  <style>\n",
              "    .colab-df-container {\n",
              "      display:flex;\n",
              "      flex-wrap:wrap;\n",
              "      gap: 12px;\n",
              "    }\n",
              "\n",
              "    .colab-df-convert {\n",
              "      background-color: #E8F0FE;\n",
              "      border: none;\n",
              "      border-radius: 50%;\n",
              "      cursor: pointer;\n",
              "      display: none;\n",
              "      fill: #1967D2;\n",
              "      height: 32px;\n",
              "      padding: 0 0 0 0;\n",
              "      width: 32px;\n",
              "    }\n",
              "\n",
              "    .colab-df-convert:hover {\n",
              "      background-color: #E2EBFA;\n",
              "      box-shadow: 0px 1px 2px rgba(60, 64, 67, 0.3), 0px 1px 3px 1px rgba(60, 64, 67, 0.15);\n",
              "      fill: #174EA6;\n",
              "    }\n",
              "\n",
              "    [theme=dark] .colab-df-convert {\n",
              "      background-color: #3B4455;\n",
              "      fill: #D2E3FC;\n",
              "    }\n",
              "\n",
              "    [theme=dark] .colab-df-convert:hover {\n",
              "      background-color: #434B5C;\n",
              "      box-shadow: 0px 1px 3px 1px rgba(0, 0, 0, 0.15);\n",
              "      filter: drop-shadow(0px 1px 2px rgba(0, 0, 0, 0.3));\n",
              "      fill: #FFFFFF;\n",
              "    }\n",
              "  </style>\n",
              "\n",
              "      <script>\n",
              "        const buttonEl =\n",
              "          document.querySelector('#df-b0ffe381-823a-4236-88bd-aff2ca1e1869 button.colab-df-convert');\n",
              "        buttonEl.style.display =\n",
              "          google.colab.kernel.accessAllowed ? 'block' : 'none';\n",
              "\n",
              "        async function convertToInteractive(key) {\n",
              "          const element = document.querySelector('#df-b0ffe381-823a-4236-88bd-aff2ca1e1869');\n",
              "          const dataTable =\n",
              "            await google.colab.kernel.invokeFunction('convertToInteractive',\n",
              "                                                     [key], {});\n",
              "          if (!dataTable) return;\n",
              "\n",
              "          const docLinkHtml = 'Like what you see? Visit the ' +\n",
              "            '<a target=\"_blank\" href=https://colab.research.google.com/notebooks/data_table.ipynb>data table notebook</a>'\n",
              "            + ' to learn more about interactive tables.';\n",
              "          element.innerHTML = '';\n",
              "          dataTable['output_type'] = 'display_data';\n",
              "          await google.colab.output.renderOutput(dataTable, element);\n",
              "          const docLink = document.createElement('div');\n",
              "          docLink.innerHTML = docLinkHtml;\n",
              "          element.appendChild(docLink);\n",
              "        }\n",
              "      </script>\n",
              "    </div>\n",
              "  </div>\n",
              "  "
            ]
          },
          "metadata": {},
          "execution_count": 13
        }
      ]
    },
    {
      "cell_type": "code",
      "source": [
        "df3.info()"
      ],
      "metadata": {
        "id": "_6_qOTlKjWBW"
      },
      "execution_count": null,
      "outputs": []
    },
    {
      "cell_type": "code",
      "source": [
        "df3.to_csv(\"Brand_Tweet_Level.csv\")"
      ],
      "metadata": {
        "id": "qapYcSMMvqPd"
      },
      "execution_count": null,
      "outputs": []
    },
    {
      "cell_type": "code",
      "source": [
        "from google.colab import files\n",
        "files.download('Brand_Tweet_Level.csv')"
      ],
      "metadata": {
        "colab": {
          "base_uri": "https://localhost:8080/",
          "height": 17
        },
        "id": "GQmsD2dKwVP0",
        "outputId": "bb86825f-086f-49b0-98ea-453e7dc65b23"
      },
      "execution_count": null,
      "outputs": [
        {
          "output_type": "display_data",
          "data": {
            "text/plain": [
              "<IPython.core.display.Javascript object>"
            ],
            "application/javascript": [
              "\n",
              "    async function download(id, filename, size) {\n",
              "      if (!google.colab.kernel.accessAllowed) {\n",
              "        return;\n",
              "      }\n",
              "      const div = document.createElement('div');\n",
              "      const label = document.createElement('label');\n",
              "      label.textContent = `Downloading \"${filename}\": `;\n",
              "      div.appendChild(label);\n",
              "      const progress = document.createElement('progress');\n",
              "      progress.max = size;\n",
              "      div.appendChild(progress);\n",
              "      document.body.appendChild(div);\n",
              "\n",
              "      const buffers = [];\n",
              "      let downloaded = 0;\n",
              "\n",
              "      const channel = await google.colab.kernel.comms.open(id);\n",
              "      // Send a message to notify the kernel that we're ready.\n",
              "      channel.send({})\n",
              "\n",
              "      for await (const message of channel.messages) {\n",
              "        // Send a message to notify the kernel that we're ready.\n",
              "        channel.send({})\n",
              "        if (message.buffers) {\n",
              "          for (const buffer of message.buffers) {\n",
              "            buffers.push(buffer);\n",
              "            downloaded += buffer.byteLength;\n",
              "            progress.value = downloaded;\n",
              "          }\n",
              "        }\n",
              "      }\n",
              "      const blob = new Blob(buffers, {type: 'application/binary'});\n",
              "      const a = document.createElement('a');\n",
              "      a.href = window.URL.createObjectURL(blob);\n",
              "      a.download = filename;\n",
              "      div.appendChild(a);\n",
              "      a.click();\n",
              "      div.remove();\n",
              "    }\n",
              "  "
            ]
          },
          "metadata": {}
        },
        {
          "output_type": "display_data",
          "data": {
            "text/plain": [
              "<IPython.core.display.Javascript object>"
            ],
            "application/javascript": [
              "download(\"download_632915f9-ae0e-49b3-8e06-2eef7e17e185\", \"Brand_Tweet_Level.csv\", 628601350)"
            ]
          },
          "metadata": {}
        }
      ]
    },
    {
      "cell_type": "markdown",
      "source": [
        "Lets Create a Brand Level Dataset"
      ],
      "metadata": {
        "id": "C4PctOasmHSA"
      }
    },
    {
      "cell_type": "code",
      "source": [
        "sums_by_brand = df3.groupby('brand_ad_name')['public_metrics.impression_count', 'public_metrics.retweet_count', 'public_metrics.reply_count', 'public_metrics.like_count', 'public_metrics.quote_count'].sum()\n",
        "tweet_cnt_brand = df3.groupby('brand_ad_name')['id'].count()\n",
        "\n",
        "df_by_brand = pd.merge(sums_by_brand, tweet_cnt_brand, on='brand_ad_name')\n",
        "df_by_brand.tail(20)\n"
      ],
      "metadata": {
        "colab": {
          "base_uri": "https://localhost:8080/",
          "height": 980
        },
        "id": "vO2J40FKnA61",
        "outputId": "cf95b04c-4682-4d43-d854-ac06feca64fc"
      },
      "execution_count": null,
      "outputs": [
        {
          "output_type": "stream",
          "name": "stderr",
          "text": [
            "<ipython-input-23-bed8efeee400>:1: FutureWarning: Indexing with multiple keys (implicitly converted to a tuple of keys) will be deprecated, use a list instead.\n",
            "  sums_by_brand = df3.groupby('brand_ad_name')['public_metrics.impression_count', 'public_metrics.retweet_count', 'public_metrics.reply_count', 'public_metrics.like_count', 'public_metrics.quote_count'].sum()\n"
          ]
        },
        {
          "output_type": "execute_result",
          "data": {
            "text/plain": [
              "                                              public_metrics.impression_count  \\\n",
              "brand_ad_name                                                                   \n",
              "sotyktu                                                               12460.0   \n",
              "squarespace:the singularity                                         3966722.0   \n",
              "strays                                                                11754.0   \n",
              "subway: behind the greatest menu of all time                        1360600.0   \n",
              "super bowl                                                              535.0   \n",
              "the farmer's dog forever                                            2147378.0   \n",
              "the masked singer                                                    383270.0   \n",
              "tillamook cheddar                                                     23079.0   \n",
              "toyota                                                               811434.0   \n",
              "transformers                                                        6333074.0   \n",
              "tubi                                                               25346088.0   \n",
              "uber one: one hit for uber one                                      8681667.0   \n",
              "ufirst                                                                 2835.0   \n",
              "universal trailer: fast x                                           2786173.0   \n",
              "verizon                                                              404904.0   \n",
              "vms                                                                  944433.0   \n",
              "warner bros. trailer: the flash                                    26855487.0   \n",
              "workday: rock star                                                  5219806.0   \n",
              "wwe                                                                 5603579.0   \n",
              "xfinity                                                             2185346.0   \n",
              "\n",
              "                                              public_metrics.retweet_count  \\\n",
              "brand_ad_name                                                                \n",
              "sotyktu                                                             3998.0   \n",
              "squarespace:the singularity                                     15720826.0   \n",
              "strays                                                             10563.0   \n",
              "subway: behind the greatest menu of all time                      913958.0   \n",
              "super bowl                                                            48.0   \n",
              "the farmer's dog forever                                         1021346.0   \n",
              "the masked singer                                                  33794.0   \n",
              "tillamook cheddar                                                      0.0   \n",
              "toyota                                                            122938.0   \n",
              "transformers                                                    15160587.0   \n",
              "tubi                                                            52554797.0   \n",
              "uber one: one hit for uber one                                   4465091.0   \n",
              "ufirst                                                                45.0   \n",
              "universal trailer: fast x                                        6009240.0   \n",
              "verizon                                                            93003.0   \n",
              "vms                                                                50304.0   \n",
              "warner bros. trailer: the flash                                494418768.0   \n",
              "workday: rock star                                               4836036.0   \n",
              "wwe                                                              4993965.0   \n",
              "xfinity                                                            23480.0   \n",
              "\n",
              "                                              public_metrics.reply_count  \\\n",
              "brand_ad_name                                                              \n",
              "sotyktu                                                              3.0   \n",
              "squarespace:the singularity                                       4931.0   \n",
              "strays                                                              25.0   \n",
              "subway: behind the greatest menu of all time                       813.0   \n",
              "super bowl                                                           1.0   \n",
              "the farmer's dog forever                                          2275.0   \n",
              "the masked singer                                                  192.0   \n",
              "tillamook cheddar                                                   28.0   \n",
              "toyota                                                            1083.0   \n",
              "transformers                                                      2912.0   \n",
              "tubi                                                             10829.0   \n",
              "uber one: one hit for uber one                                    3250.0   \n",
              "ufirst                                                               1.0   \n",
              "universal trailer: fast x                                         1334.0   \n",
              "verizon                                                            268.0   \n",
              "vms                                                                823.0   \n",
              "warner bros. trailer: the flash                                  23567.0   \n",
              "workday: rock star                                                2055.0   \n",
              "wwe                                                               2679.0   \n",
              "xfinity                                                            365.0   \n",
              "\n",
              "                                              public_metrics.like_count  \\\n",
              "brand_ad_name                                                             \n",
              "sotyktu                                                            57.0   \n",
              "squarespace:the singularity                                     53083.0   \n",
              "strays                                                            391.0   \n",
              "subway: behind the greatest menu of all time                     9679.0   \n",
              "super bowl                                                          2.0   \n",
              "the farmer's dog forever                                        26542.0   \n",
              "the masked singer                                                2859.0   \n",
              "tillamook cheddar                                                 114.0   \n",
              "toyota                                                           6833.0   \n",
              "transformers                                                    90697.0   \n",
              "tubi                                                           344704.0   \n",
              "uber one: one hit for uber one                                  61893.0   \n",
              "ufirst                                                             21.0   \n",
              "universal trailer: fast x                                       35201.0   \n",
              "verizon                                                          1246.0   \n",
              "vms                                                              8383.0   \n",
              "warner bros. trailer: the flash                                431634.0   \n",
              "workday: rock star                                              29646.0   \n",
              "wwe                                                             48643.0   \n",
              "xfinity                                                          3212.0   \n",
              "\n",
              "                                              public_metrics.quote_count  \\\n",
              "brand_ad_name                                                              \n",
              "sotyktu                                                              1.0   \n",
              "squarespace:the singularity                                      26765.0   \n",
              "strays                                                               4.0   \n",
              "subway: behind the greatest menu of all time                       245.0   \n",
              "super bowl                                                           0.0   \n",
              "the farmer's dog forever                                          1263.0   \n",
              "the masked singer                                                   28.0   \n",
              "tillamook cheddar                                                    2.0   \n",
              "toyota                                                             112.0   \n",
              "transformers                                                      2161.0   \n",
              "tubi                                                              9334.0   \n",
              "uber one: one hit for uber one                                     906.0   \n",
              "ufirst                                                               0.0   \n",
              "universal trailer: fast x                                          977.0   \n",
              "verizon                                                             27.0   \n",
              "vms                                                                 81.0   \n",
              "warner bros. trailer: the flash                                   5637.0   \n",
              "workday: rock star                                                 547.0   \n",
              "wwe                                                                971.0   \n",
              "xfinity                                                            134.0   \n",
              "\n",
              "                                                 id  \n",
              "brand_ad_name                                        \n",
              "sotyktu                                          57  \n",
              "squarespace:the singularity                   25650  \n",
              "strays                                          345  \n",
              "subway: behind the greatest menu of all time   2835  \n",
              "super bowl                                        8  \n",
              "the farmer's dog forever                       5530  \n",
              "the masked singer                               738  \n",
              "tillamook cheddar                                63  \n",
              "toyota                                         1668  \n",
              "transformers                                  14130  \n",
              "tubi                                          42423  \n",
              "uber one: one hit for uber one                14019  \n",
              "ufirst                                           11  \n",
              "universal trailer: fast x                      5337  \n",
              "verizon                                         495  \n",
              "vms                                            2522  \n",
              "warner bros. trailer: the flash               93942  \n",
              "workday: rock star                             8781  \n",
              "wwe                                           10732  \n",
              "xfinity                                        1072  "
            ],
            "text/html": [
              "\n",
              "  <div id=\"df-1b1a0186-4706-4f94-9a5b-38193ce8c3a0\">\n",
              "    <div class=\"colab-df-container\">\n",
              "      <div>\n",
              "<style scoped>\n",
              "    .dataframe tbody tr th:only-of-type {\n",
              "        vertical-align: middle;\n",
              "    }\n",
              "\n",
              "    .dataframe tbody tr th {\n",
              "        vertical-align: top;\n",
              "    }\n",
              "\n",
              "    .dataframe thead th {\n",
              "        text-align: right;\n",
              "    }\n",
              "</style>\n",
              "<table border=\"1\" class=\"dataframe\">\n",
              "  <thead>\n",
              "    <tr style=\"text-align: right;\">\n",
              "      <th></th>\n",
              "      <th>public_metrics.impression_count</th>\n",
              "      <th>public_metrics.retweet_count</th>\n",
              "      <th>public_metrics.reply_count</th>\n",
              "      <th>public_metrics.like_count</th>\n",
              "      <th>public_metrics.quote_count</th>\n",
              "      <th>id</th>\n",
              "    </tr>\n",
              "    <tr>\n",
              "      <th>brand_ad_name</th>\n",
              "      <th></th>\n",
              "      <th></th>\n",
              "      <th></th>\n",
              "      <th></th>\n",
              "      <th></th>\n",
              "      <th></th>\n",
              "    </tr>\n",
              "  </thead>\n",
              "  <tbody>\n",
              "    <tr>\n",
              "      <th>sotyktu</th>\n",
              "      <td>12460.0</td>\n",
              "      <td>3998.0</td>\n",
              "      <td>3.0</td>\n",
              "      <td>57.0</td>\n",
              "      <td>1.0</td>\n",
              "      <td>57</td>\n",
              "    </tr>\n",
              "    <tr>\n",
              "      <th>squarespace:the singularity</th>\n",
              "      <td>3966722.0</td>\n",
              "      <td>15720826.0</td>\n",
              "      <td>4931.0</td>\n",
              "      <td>53083.0</td>\n",
              "      <td>26765.0</td>\n",
              "      <td>25650</td>\n",
              "    </tr>\n",
              "    <tr>\n",
              "      <th>strays</th>\n",
              "      <td>11754.0</td>\n",
              "      <td>10563.0</td>\n",
              "      <td>25.0</td>\n",
              "      <td>391.0</td>\n",
              "      <td>4.0</td>\n",
              "      <td>345</td>\n",
              "    </tr>\n",
              "    <tr>\n",
              "      <th>subway: behind the greatest menu of all time</th>\n",
              "      <td>1360600.0</td>\n",
              "      <td>913958.0</td>\n",
              "      <td>813.0</td>\n",
              "      <td>9679.0</td>\n",
              "      <td>245.0</td>\n",
              "      <td>2835</td>\n",
              "    </tr>\n",
              "    <tr>\n",
              "      <th>super bowl</th>\n",
              "      <td>535.0</td>\n",
              "      <td>48.0</td>\n",
              "      <td>1.0</td>\n",
              "      <td>2.0</td>\n",
              "      <td>0.0</td>\n",
              "      <td>8</td>\n",
              "    </tr>\n",
              "    <tr>\n",
              "      <th>the farmer's dog forever</th>\n",
              "      <td>2147378.0</td>\n",
              "      <td>1021346.0</td>\n",
              "      <td>2275.0</td>\n",
              "      <td>26542.0</td>\n",
              "      <td>1263.0</td>\n",
              "      <td>5530</td>\n",
              "    </tr>\n",
              "    <tr>\n",
              "      <th>the masked singer</th>\n",
              "      <td>383270.0</td>\n",
              "      <td>33794.0</td>\n",
              "      <td>192.0</td>\n",
              "      <td>2859.0</td>\n",
              "      <td>28.0</td>\n",
              "      <td>738</td>\n",
              "    </tr>\n",
              "    <tr>\n",
              "      <th>tillamook cheddar</th>\n",
              "      <td>23079.0</td>\n",
              "      <td>0.0</td>\n",
              "      <td>28.0</td>\n",
              "      <td>114.0</td>\n",
              "      <td>2.0</td>\n",
              "      <td>63</td>\n",
              "    </tr>\n",
              "    <tr>\n",
              "      <th>toyota</th>\n",
              "      <td>811434.0</td>\n",
              "      <td>122938.0</td>\n",
              "      <td>1083.0</td>\n",
              "      <td>6833.0</td>\n",
              "      <td>112.0</td>\n",
              "      <td>1668</td>\n",
              "    </tr>\n",
              "    <tr>\n",
              "      <th>transformers</th>\n",
              "      <td>6333074.0</td>\n",
              "      <td>15160587.0</td>\n",
              "      <td>2912.0</td>\n",
              "      <td>90697.0</td>\n",
              "      <td>2161.0</td>\n",
              "      <td>14130</td>\n",
              "    </tr>\n",
              "    <tr>\n",
              "      <th>tubi</th>\n",
              "      <td>25346088.0</td>\n",
              "      <td>52554797.0</td>\n",
              "      <td>10829.0</td>\n",
              "      <td>344704.0</td>\n",
              "      <td>9334.0</td>\n",
              "      <td>42423</td>\n",
              "    </tr>\n",
              "    <tr>\n",
              "      <th>uber one: one hit for uber one</th>\n",
              "      <td>8681667.0</td>\n",
              "      <td>4465091.0</td>\n",
              "      <td>3250.0</td>\n",
              "      <td>61893.0</td>\n",
              "      <td>906.0</td>\n",
              "      <td>14019</td>\n",
              "    </tr>\n",
              "    <tr>\n",
              "      <th>ufirst</th>\n",
              "      <td>2835.0</td>\n",
              "      <td>45.0</td>\n",
              "      <td>1.0</td>\n",
              "      <td>21.0</td>\n",
              "      <td>0.0</td>\n",
              "      <td>11</td>\n",
              "    </tr>\n",
              "    <tr>\n",
              "      <th>universal trailer: fast x</th>\n",
              "      <td>2786173.0</td>\n",
              "      <td>6009240.0</td>\n",
              "      <td>1334.0</td>\n",
              "      <td>35201.0</td>\n",
              "      <td>977.0</td>\n",
              "      <td>5337</td>\n",
              "    </tr>\n",
              "    <tr>\n",
              "      <th>verizon</th>\n",
              "      <td>404904.0</td>\n",
              "      <td>93003.0</td>\n",
              "      <td>268.0</td>\n",
              "      <td>1246.0</td>\n",
              "      <td>27.0</td>\n",
              "      <td>495</td>\n",
              "    </tr>\n",
              "    <tr>\n",
              "      <th>vms</th>\n",
              "      <td>944433.0</td>\n",
              "      <td>50304.0</td>\n",
              "      <td>823.0</td>\n",
              "      <td>8383.0</td>\n",
              "      <td>81.0</td>\n",
              "      <td>2522</td>\n",
              "    </tr>\n",
              "    <tr>\n",
              "      <th>warner bros. trailer: the flash</th>\n",
              "      <td>26855487.0</td>\n",
              "      <td>494418768.0</td>\n",
              "      <td>23567.0</td>\n",
              "      <td>431634.0</td>\n",
              "      <td>5637.0</td>\n",
              "      <td>93942</td>\n",
              "    </tr>\n",
              "    <tr>\n",
              "      <th>workday: rock star</th>\n",
              "      <td>5219806.0</td>\n",
              "      <td>4836036.0</td>\n",
              "      <td>2055.0</td>\n",
              "      <td>29646.0</td>\n",
              "      <td>547.0</td>\n",
              "      <td>8781</td>\n",
              "    </tr>\n",
              "    <tr>\n",
              "      <th>wwe</th>\n",
              "      <td>5603579.0</td>\n",
              "      <td>4993965.0</td>\n",
              "      <td>2679.0</td>\n",
              "      <td>48643.0</td>\n",
              "      <td>971.0</td>\n",
              "      <td>10732</td>\n",
              "    </tr>\n",
              "    <tr>\n",
              "      <th>xfinity</th>\n",
              "      <td>2185346.0</td>\n",
              "      <td>23480.0</td>\n",
              "      <td>365.0</td>\n",
              "      <td>3212.0</td>\n",
              "      <td>134.0</td>\n",
              "      <td>1072</td>\n",
              "    </tr>\n",
              "  </tbody>\n",
              "</table>\n",
              "</div>\n",
              "      <button class=\"colab-df-convert\" onclick=\"convertToInteractive('df-1b1a0186-4706-4f94-9a5b-38193ce8c3a0')\"\n",
              "              title=\"Convert this dataframe to an interactive table.\"\n",
              "              style=\"display:none;\">\n",
              "        \n",
              "  <svg xmlns=\"http://www.w3.org/2000/svg\" height=\"24px\"viewBox=\"0 0 24 24\"\n",
              "       width=\"24px\">\n",
              "    <path d=\"M0 0h24v24H0V0z\" fill=\"none\"/>\n",
              "    <path d=\"M18.56 5.44l.94 2.06.94-2.06 2.06-.94-2.06-.94-.94-2.06-.94 2.06-2.06.94zm-11 1L8.5 8.5l.94-2.06 2.06-.94-2.06-.94L8.5 2.5l-.94 2.06-2.06.94zm10 10l.94 2.06.94-2.06 2.06-.94-2.06-.94-.94-2.06-.94 2.06-2.06.94z\"/><path d=\"M17.41 7.96l-1.37-1.37c-.4-.4-.92-.59-1.43-.59-.52 0-1.04.2-1.43.59L10.3 9.45l-7.72 7.72c-.78.78-.78 2.05 0 2.83L4 21.41c.39.39.9.59 1.41.59.51 0 1.02-.2 1.41-.59l7.78-7.78 2.81-2.81c.8-.78.8-2.07 0-2.86zM5.41 20L4 18.59l7.72-7.72 1.47 1.35L5.41 20z\"/>\n",
              "  </svg>\n",
              "      </button>\n",
              "      \n",
              "  <style>\n",
              "    .colab-df-container {\n",
              "      display:flex;\n",
              "      flex-wrap:wrap;\n",
              "      gap: 12px;\n",
              "    }\n",
              "\n",
              "    .colab-df-convert {\n",
              "      background-color: #E8F0FE;\n",
              "      border: none;\n",
              "      border-radius: 50%;\n",
              "      cursor: pointer;\n",
              "      display: none;\n",
              "      fill: #1967D2;\n",
              "      height: 32px;\n",
              "      padding: 0 0 0 0;\n",
              "      width: 32px;\n",
              "    }\n",
              "\n",
              "    .colab-df-convert:hover {\n",
              "      background-color: #E2EBFA;\n",
              "      box-shadow: 0px 1px 2px rgba(60, 64, 67, 0.3), 0px 1px 3px 1px rgba(60, 64, 67, 0.15);\n",
              "      fill: #174EA6;\n",
              "    }\n",
              "\n",
              "    [theme=dark] .colab-df-convert {\n",
              "      background-color: #3B4455;\n",
              "      fill: #D2E3FC;\n",
              "    }\n",
              "\n",
              "    [theme=dark] .colab-df-convert:hover {\n",
              "      background-color: #434B5C;\n",
              "      box-shadow: 0px 1px 3px 1px rgba(0, 0, 0, 0.15);\n",
              "      filter: drop-shadow(0px 1px 2px rgba(0, 0, 0, 0.3));\n",
              "      fill: #FFFFFF;\n",
              "    }\n",
              "  </style>\n",
              "\n",
              "      <script>\n",
              "        const buttonEl =\n",
              "          document.querySelector('#df-1b1a0186-4706-4f94-9a5b-38193ce8c3a0 button.colab-df-convert');\n",
              "        buttonEl.style.display =\n",
              "          google.colab.kernel.accessAllowed ? 'block' : 'none';\n",
              "\n",
              "        async function convertToInteractive(key) {\n",
              "          const element = document.querySelector('#df-1b1a0186-4706-4f94-9a5b-38193ce8c3a0');\n",
              "          const dataTable =\n",
              "            await google.colab.kernel.invokeFunction('convertToInteractive',\n",
              "                                                     [key], {});\n",
              "          if (!dataTable) return;\n",
              "\n",
              "          const docLinkHtml = 'Like what you see? Visit the ' +\n",
              "            '<a target=\"_blank\" href=https://colab.research.google.com/notebooks/data_table.ipynb>data table notebook</a>'\n",
              "            + ' to learn more about interactive tables.';\n",
              "          element.innerHTML = '';\n",
              "          dataTable['output_type'] = 'display_data';\n",
              "          await google.colab.output.renderOutput(dataTable, element);\n",
              "          const docLink = document.createElement('div');\n",
              "          docLink.innerHTML = docLinkHtml;\n",
              "          element.appendChild(docLink);\n",
              "        }\n",
              "      </script>\n",
              "    </div>\n",
              "  </div>\n",
              "  "
            ]
          },
          "metadata": {},
          "execution_count": 23
        }
      ]
    },
    {
      "cell_type": "code",
      "source": [
        "df_by_brand.to_csv(\"Brand_Level.csv\")\n",
        "from google.colab import files\n",
        "files.download('Brand_Level.csv')"
      ],
      "metadata": {
        "colab": {
          "base_uri": "https://localhost:8080/",
          "height": 17
        },
        "id": "Ohf1wqmitOmZ",
        "outputId": "fd558495-60a0-4a16-c2b6-cb392c57cb4f"
      },
      "execution_count": null,
      "outputs": [
        {
          "output_type": "display_data",
          "data": {
            "text/plain": [
              "<IPython.core.display.Javascript object>"
            ],
            "application/javascript": [
              "\n",
              "    async function download(id, filename, size) {\n",
              "      if (!google.colab.kernel.accessAllowed) {\n",
              "        return;\n",
              "      }\n",
              "      const div = document.createElement('div');\n",
              "      const label = document.createElement('label');\n",
              "      label.textContent = `Downloading \"${filename}\": `;\n",
              "      div.appendChild(label);\n",
              "      const progress = document.createElement('progress');\n",
              "      progress.max = size;\n",
              "      div.appendChild(progress);\n",
              "      document.body.appendChild(div);\n",
              "\n",
              "      const buffers = [];\n",
              "      let downloaded = 0;\n",
              "\n",
              "      const channel = await google.colab.kernel.comms.open(id);\n",
              "      // Send a message to notify the kernel that we're ready.\n",
              "      channel.send({})\n",
              "\n",
              "      for await (const message of channel.messages) {\n",
              "        // Send a message to notify the kernel that we're ready.\n",
              "        channel.send({})\n",
              "        if (message.buffers) {\n",
              "          for (const buffer of message.buffers) {\n",
              "            buffers.push(buffer);\n",
              "            downloaded += buffer.byteLength;\n",
              "            progress.value = downloaded;\n",
              "          }\n",
              "        }\n",
              "      }\n",
              "      const blob = new Blob(buffers, {type: 'application/binary'});\n",
              "      const a = document.createElement('a');\n",
              "      a.href = window.URL.createObjectURL(blob);\n",
              "      a.download = filename;\n",
              "      div.appendChild(a);\n",
              "      a.click();\n",
              "      div.remove();\n",
              "    }\n",
              "  "
            ]
          },
          "metadata": {}
        },
        {
          "output_type": "display_data",
          "data": {
            "text/plain": [
              "<IPython.core.display.Javascript object>"
            ],
            "application/javascript": [
              "download(\"download_04b14728-cf4f-4b29-9574-2e126c98c1aa\", \"Brand_Level.csv\", 6629)"
            ]
          },
          "metadata": {}
        }
      ]
    },
    {
      "cell_type": "markdown",
      "source": [
        "Lets create sentiment scores for each brand"
      ],
      "metadata": {
        "id": "aetMuIDaz9PG"
      }
    },
    {
      "cell_type": "code",
      "source": [
        "import re\n",
        "import pandas as pd\n",
        "import matplotlib.pyplot as plt\n",
        "import nltk\n",
        "from nltk.sentiment.vader import SentimentIntensityAnalyzer\n",
        "nltk.download('vader_lexicon')"
      ],
      "metadata": {
        "colab": {
          "base_uri": "https://localhost:8080/"
        },
        "id": "LFmSrI2P0B-U",
        "outputId": "6b849a54-f044-46b0-873d-7e037dfad960"
      },
      "execution_count": null,
      "outputs": [
        {
          "output_type": "stream",
          "name": "stderr",
          "text": [
            "[nltk_data] Downloading package vader_lexicon to /root/nltk_data...\n"
          ]
        },
        {
          "output_type": "execute_result",
          "data": {
            "text/plain": [
              "True"
            ]
          },
          "metadata": {},
          "execution_count": 1
        }
      ]
    },
    {
      "cell_type": "code",
      "source": [
        "df = pd.read_csv('/content/gdrive/MyDrive/2023 Data/Clean.csv')"
      ],
      "metadata": {
        "id": "eMxzhofF0gEd"
      },
      "execution_count": null,
      "outputs": []
    },
    {
      "cell_type": "code",
      "source": [
        "endf = df.loc[df['lang']=='en']\n",
        "df_txt = endf[['author_id', 'text']]\n",
        "df_txt.head(5)"
      ],
      "metadata": {
        "id": "NZ73WYnv2oXn"
      },
      "execution_count": null,
      "outputs": []
    },
    {
      "cell_type": "code",
      "source": [
        "df1=pd.DataFrame()\n",
        "df1['row_id']=['99999999999']\n",
        "df1['sentiment_type']='NA999NA'\n",
        "df1['sentiment_score']=0"
      ],
      "metadata": {
        "id": "dR73M8f75fiG"
      },
      "execution_count": null,
      "outputs": []
    },
    {
      "cell_type": "code",
      "source": [
        "sid = SentimentIntensityAnalyzer()\n",
        "t_df = df1\n",
        "for index, row in df_txt.iterrows():\n",
        "    scores = sid.polarity_scores(row[1])\n",
        "    for key, value in scores.items():\n",
        "        temp = [key,value,row[0]]\n",
        "        df1['row_id']=row[0]\n",
        "        df1['sentiment_type']=key\n",
        "        df1['sentiment_score']=value\n",
        "        t_df=t_df.append(df1)"
      ],
      "metadata": {
        "id": "eCFabHl7526f"
      },
      "execution_count": null,
      "outputs": []
    }
  ]
}